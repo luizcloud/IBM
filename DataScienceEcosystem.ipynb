{
 "cells": [
  {
   "cell_type": "markdown",
   "metadata": {},
   "source": [
    "# Ferramentas e Ecossistema de Ciência de Dados "
   ]
  },
  {
   "cell_type": "markdown",
   "metadata": {},
   "source": [
    "Neste notebook, são resumidas as Ferramentas e o Ecossistema de Ciência de Dados."
   ]
  },
  {
   "cell_type": "markdown",
   "metadata": {},
   "source": [
    "**Objetivos:**\n",
    "\n",
    "- Listar linguagens populares para Ciência de Dados\n",
    "- Destacar bibliotecas comuns utilizadas por Cientistas de Dados\n",
    "- Apresentar ferramentas de ambiente de desenvolvimento em código aberto para Ciência de Dados\n",
    "- Demonstrar exemplos de expressões aritméticas com Python"
   ]
  },
  {
   "cell_type": "markdown",
   "metadata": {},
   "source": [
    "## Autor\n",
    "Luiz Felix Neto"
   ]
  },
  {
   "cell_type": "markdown",
   "metadata": {},
   "source": [
    "Algumas das linguagens populares que os Cientistas de Dados usam são:\\\n",
    "01-Python\\\n",
    "02-R\\\n",
    "03-SQL\\\n",
    "04-Bash\\\n",
    "05-C++"
   ]
  },
  {
   "cell_type": "markdown",
   "metadata": {},
   "source": [
    "Algumas das bibliotecas comumente usadas pelos Cientistas de Dados incluem:\\\n",
    "01-Pandas\\\n",
    "02-NumPy\\\n",
    "03-BeautifulSoup\\\n",
    "04-Seaborn\\\n",
    "05-Matplotlib"
   ]
  },
  {
   "cell_type": "markdown",
   "metadata": {},
   "source": [
    "| Ferramentas de Ciência de Dados |\n",
    "|---------------------------------|\n",
    "| Jupyter                         |\n",
    "| Spyder                          |\n",
    "| RStudio                         |\n"
   ]
  },
  {
   "cell_type": "markdown",
   "metadata": {},
   "source": [
    "### Abaixo estão alguns exemplos de avaliação de expressões aritméticas em Python."
   ]
  },
  {
   "cell_type": "code",
   "execution_count": 2,
   "metadata": {},
   "outputs": [
    {
     "data": {
      "text/plain": [
       "17"
      ]
     },
     "execution_count": 2,
     "metadata": {},
     "output_type": "execute_result"
    }
   ],
   "source": [
    "# Esta é uma expressão aritmética simples para multiplicar e depois somar inteiros\n",
    "resultado = (3 * 4) + 5\n",
    "resultado"
   ]
  },
  {
   "cell_type": "code",
   "execution_count": 5,
   "metadata": {},
   "outputs": [
    {
     "name": "stdout",
     "output_type": "stream",
     "text": [
      "Resultado em horas: 3.3333333333333335\n"
     ]
    }
   ],
   "source": [
    "# Isso converterá 200 minutos em horas dividindo por 60\n",
    "resultado_horas = 200 / 60\n",
    "\n",
    "# Exibindo o resultado com um comentário\n",
    "print(\"Resultado em horas:\", resultado_horas)"
   ]
  },
  {
   "cell_type": "code",
   "execution_count": null,
   "metadata": {},
   "outputs": [],
   "source": []
  }
 ],
 "metadata": {
  "kernelspec": {
   "display_name": "Python 3",
   "language": "python",
   "name": "python3"
  },
  "language_info": {
   "codemirror_mode": {
    "name": "ipython",
    "version": 3
   },
   "file_extension": ".py",
   "mimetype": "text/x-python",
   "name": "python",
   "nbconvert_exporter": "python",
   "pygments_lexer": "ipython3",
   "version": "3.11.8"
  }
 },
 "nbformat": 4,
 "nbformat_minor": 2
}
